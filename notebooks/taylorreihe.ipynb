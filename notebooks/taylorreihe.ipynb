{
 "cells": [
  {
   "cell_type": "markdown",
   "metadata": {},
   "source": [
    "# Taylorreihe"
   ]
  },
  {
   "cell_type": "markdown",
   "metadata": {},
   "source": [
    "Die Taylorreihe einer unendlich oft differenzierbaren Funktion $f(x)$ an der Stelle $x_0$ ist durch\n",
    "$$f(x) = \\sum_{n=0}^\\infty\\frac{f^{(n)}(x_0)}{n!}(x-x_0)^n$$\n",
    "gegeben. Im Folgenden sehen wir uns an, wie eine Funktion angenähert wird, wenn die obere Grenze der Summe durch einen variablen endlichen Wert ersetzt wird."
   ]
  },
  {
   "cell_type": "code",
   "execution_count": null,
   "metadata": {},
   "outputs": [],
   "source": [
    "from ipywidgets import interact, widgets"
   ]
  },
  {
   "cell_type": "code",
   "execution_count": null,
   "metadata": {},
   "outputs": [],
   "source": [
    "from math import factorial\n",
    "import numpy as np\n",
    "import matplotlib.pyplot as plt"
   ]
  },
  {
   "cell_type": "code",
   "execution_count": null,
   "metadata": {},
   "outputs": [],
   "source": [
    "class Taylorseries:\n",
    "    def __init__(self, coeffs):\n",
    "        self.coeffs = coeffs\n",
    "        \n",
    "    def __call__(self, x, order):\n",
    "        p = np.poly1d(self.coeffs[-order-1:])\n",
    "        return p(x)\n",
    "\n",
    "maxorder = 10    \n",
    "taylor_sin = Taylorseries([(-1)**((n-1)//2)/factorial(n) if n % 2 else 0\n",
    "                           for n in range(maxorder, -1, -1)])\n",
    "taylor_cos = Taylorseries([(-1)**((n+1)//2)/factorial(n) if not (n % 2) else 0\n",
    "                           for n in range(maxorder, -1, -1)])"
   ]
  },
  {
   "cell_type": "code",
   "execution_count": null,
   "metadata": {},
   "outputs": [],
   "source": [
    "@interact(funcs=widgets.Dropdown(options={'Sinus': (np.sin, taylor_sin),\n",
    "                                          'Kosinus': (np.cos, taylor_cos)},\n",
    "                                 description='Funktion'),\n",
    "          order=widgets.IntSlider(min=0, max=maxorder, value=0,\n",
    "                                  description='Ordnung')\n",
    "         )\n",
    "def g(funcs, order):\n",
    "    f, ftaylor = funcs\n",
    "    x = np.linspace(-np.pi, np.pi)\n",
    "    plt.plot(x, f(x))\n",
    "    plt.plot(x, ftaylor(x, order))\n",
    "    plt.ylim(-1.5, 1.5)\n",
    "    plt.show()"
   ]
  }
 ],
 "metadata": {
  "kernelspec": {
   "display_name": "Python 3",
   "language": "python",
   "name": "python3"
  },
  "language_info": {
   "codemirror_mode": {
    "name": "ipython",
    "version": 3
   },
   "file_extension": ".py",
   "mimetype": "text/x-python",
   "name": "python",
   "nbconvert_exporter": "python",
   "pygments_lexer": "ipython3",
   "version": "3.6.4"
  }
 },
 "nbformat": 4,
 "nbformat_minor": 2
}
