{
 "cells": [
  {
   "cell_type": "markdown",
   "metadata": {},
   "source": [
    "# Taylorreihe"
   ]
  },
  {
   "cell_type": "markdown",
   "metadata": {},
   "source": [
    "Die Taylorreihe einer unendlich oft differenzierbaren Funktion $f(x)$ an der Stelle $x_0$ ist durch\n",
    "$$f(x) = \\sum_{n=0}^\\infty\\frac{f^{(n)}(x_0)}{n!}(x-x_0)^n$$\n",
    "gegeben. Im Folgenden sehen wir uns an, wie eine Funktion angenähert wird, wenn die obere Grenze der Summe durch einen variablen endlichen Wert ersetzt wird."
   ]
  },
  {
   "cell_type": "code",
   "execution_count": 1,
   "metadata": {},
   "outputs": [],
   "source": [
    "from ipywidgets import interact, widgets"
   ]
  },
  {
   "cell_type": "code",
   "execution_count": 2,
   "metadata": {},
   "outputs": [],
   "source": [
    "from math import factorial\n",
    "import numpy as np\n",
    "import matplotlib.pyplot as plt"
   ]
  },
  {
   "cell_type": "code",
   "execution_count": 3,
   "metadata": {},
   "outputs": [],
   "source": [
    "class Taylorseries:\n",
    "    def __init__(self, coeffs):\n",
    "        self.coeffs = coeffs\n",
    "        \n",
    "    def __call__(self, x, order):\n",
    "        p = np.poly1d(self.coeffs[-order-1:])\n",
    "        return p(x)\n",
    "\n",
    "maxorder = 10    \n",
    "taylor_sin = Taylorseries([(-1)**((n-1)//2)/factorial(n) if n % 2 else 0\n",
    "                           for n in range(maxorder, -1, -1)])\n",
    "taylor_cos = Taylorseries([(-1)**((n+1)//2)/factorial(n) if not (n % 2) else 0\n",
    "                           for n in range(maxorder, -1, -1)])"
   ]
  },
  {
   "cell_type": "code",
   "execution_count": 4,
   "metadata": {},
   "outputs": [
    {
     "data": {
      "application/vnd.jupyter.widget-view+json": {
       "model_id": "23a0b0494e74481c826838cbfea56174",
       "version_major": 2,
       "version_minor": 0
      },
      "text/html": [
       "<p>Failed to display Jupyter Widget of type <code>interactive</code>.</p>\n",
       "<p>\n",
       "  If you're reading this message in the Jupyter Notebook or JupyterLab Notebook, it may mean\n",
       "  that the widgets JavaScript is still loading. If this message persists, it\n",
       "  likely means that the widgets JavaScript library is either not installed or\n",
       "  not enabled. See the <a href=\"https://ipywidgets.readthedocs.io/en/stable/user_install.html\">Jupyter\n",
       "  Widgets Documentation</a> for setup instructions.\n",
       "</p>\n",
       "<p>\n",
       "  If you're reading this message in another frontend (for example, a static\n",
       "  rendering on GitHub or <a href=\"https://nbviewer.jupyter.org/\">NBViewer</a>),\n",
       "  it may mean that your frontend doesn't currently support widgets.\n",
       "</p>\n"
      ],
      "text/plain": [
       "interactive(children=(Dropdown(description='Funktion', options={'Sinus': (<ufunc 'sin'>, <__main__.Taylorseries object at 0x7f110c8eacf8>), 'Kosinus': (<ufunc 'cos'>, <__main__.Taylorseries object at 0x7f110c8ead30>)}, value=(<ufunc 'sin'>, <__main__.Taylorseries object at 0x7f110c8eacf8>)), IntSlider(value=0, description='Ordnung', max=10), Output()), _dom_classes=('widget-interact',))"
      ]
     },
     "metadata": {},
     "output_type": "display_data"
    }
   ],
   "source": [
    "@interact(funcs=widgets.Dropdown(options={'Sinus': (np.sin, taylor_sin),\n",
    "                                          'Kosinus': (np.cos, taylor_cos)},\n",
    "                                 description='Funktion'),\n",
    "          order=widgets.IntSlider(min=0, max=maxorder, value=0,\n",
    "                                  description='Ordnung')\n",
    "         )\n",
    "def g(funcs, order):\n",
    "    f, ftaylor = funcs\n",
    "    x = np.linspace(-np.pi, np.pi)\n",
    "    plt.plot(x, f(x))\n",
    "    plt.plot(x, ftaylor(x, order))\n",
    "    plt.ylim(-1.5, 1.5)\n",
    "    plt.show()"
   ]
  }
 ],
 "metadata": {
  "kernelspec": {
   "display_name": "Python 3",
   "language": "python",
   "name": "python3"
  },
  "language_info": {
   "codemirror_mode": {
    "name": "ipython",
    "version": 3
   },
   "file_extension": ".py",
   "mimetype": "text/x-python",
   "name": "python",
   "nbconvert_exporter": "python",
   "pygments_lexer": "ipython3",
   "version": "3.6.4"
  }
 },
 "nbformat": 4,
 "nbformat_minor": 2
}
